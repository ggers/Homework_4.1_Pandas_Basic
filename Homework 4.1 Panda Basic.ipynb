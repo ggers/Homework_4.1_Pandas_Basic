{
 "cells": [
  {
   "cell_type": "code",
   "execution_count": 102,
   "metadata": {},
   "outputs": [
    {
     "name": "stdout",
     "output_type": "stream",
     "text": [
      "1900\n",
      "1950\n",
      "2000\n"
     ]
    },
    {
     "data": {
      "text/plain": [
       "13240     James\n",
       "14716      John\n",
       "25267    Robert\n",
       "Name: Name, dtype: object"
      ]
     },
     "execution_count": 102,
     "metadata": {},
     "output_type": "execute_result"
    }
   ],
   "source": [
    "def count_top3(target_years):\n",
    "    import pandas as pd\n",
    "    DATA_PATH = \"D:DataS\\YOB\"\n",
    "    names_dict = {}\n",
    "    for target_year in target_years:\n",
    "        print(target_year)\n",
    "        names_dict[target_year] =  pd.read_csv(f\"{DATA_PATH}\\yob{target_year}.txt\", names = [\"Name\", \"Gender\", \"Count\"])\n",
    "    names_all = pd.concat(names_dict, names = [\"Year\", \"Pos\"])\n",
    "    names_final = names_all.groupby(\"Name\").sum()\n",
    "    names_final = names_final.reset_index()\n",
    "      \n",
    "    return names_final.sort_values(by=[\"Count\"], ascending=False).head(3).Name\n",
    "count_top3([1900, 1950, 2000])\n",
    "\n",
    "\n",
    "#шаг 1 подгружаем переменные\n",
    "#шаг 2 циклом по переданному списку годов создаем словарь names_dict\n",
    "#шаг 3 с помощью конкатенации слепляем всё в один большой дата-фрейм names_all, передавая словарь как аргумент\n",
    "#шаг 4 группировка с суммированием в итоговый отсортированный дата-фрейм names_final\n",
    "#шаг 5 сбрасываем индексы\n",
    "#шаг 6 возвращаем дата-фрейм с 3 наиболее популярными именами\n",
    "# шаг 7 как выковырять из дата-фрейма столбец в виде списка - я не догадался к сожалению(\n",
    "\n"
   ]
  },
  {
   "cell_type": "code",
   "execution_count": 91,
   "metadata": {},
   "outputs": [
    {
     "data": {
      "text/plain": [
       "{'F': [2224, 6111, 17653], 'M': [1506, 4191, 12116]}"
      ]
     },
     "execution_count": 91,
     "metadata": {},
     "output_type": "execute_result"
    }
   ],
   "source": [
    "def count_dynamics(target_years):\n",
    "    import pandas as pd\n",
    "    DATA_PATH = \"D:DataS\\YOB\"\n",
    "    names_dict = {}\n",
    "    f_list = []\n",
    "    m_list = []\n",
    "    for target_year in target_years:\n",
    "        names_dict[target_year] =  pd.read_csv(f\"{DATA_PATH}\\yob{target_year}.txt\", names = [\"Name\", \"Gender\", \"Count\"])\n",
    "        f_list.append(names_dict[target_year][\"Gender\"].value_counts().to_dict()[\"F\"])\n",
    "        m_list.append(names_dict[target_year][\"Gender\"].value_counts().to_dict()[\"M\"])\n",
    "    return {\"F\": f_list, \"M\": m_list}\n",
    "\n",
    "count_dynamics([1900, 1950, 2000])"
   ]
  },
  {
   "cell_type": "code",
   "execution_count": null,
   "metadata": {},
   "outputs": [],
   "source": []
  }
 ],
 "metadata": {
  "kernelspec": {
   "display_name": "Python 3",
   "language": "python",
   "name": "python3"
  },
  "language_info": {
   "codemirror_mode": {
    "name": "ipython",
    "version": 3
   },
   "file_extension": ".py",
   "mimetype": "text/x-python",
   "name": "python",
   "nbconvert_exporter": "python",
   "pygments_lexer": "ipython3",
   "version": "3.6.5"
  }
 },
 "nbformat": 4,
 "nbformat_minor": 2
}
